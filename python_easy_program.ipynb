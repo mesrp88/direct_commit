{
  "nbformat": 4,
  "nbformat_minor": 0,
  "metadata": {
    "colab": {
      "name": "python_easy_program.ipynb",
      "provenance": [],
      "authorship_tag": "ABX9TyPfXPWTcSJbLlw/gmRhuMC7",
      "include_colab_link": true
    },
    "kernelspec": {
      "name": "python3",
      "display_name": "Python 3"
    },
    "language_info": {
      "name": "python"
    }
  },
  "cells": [
    {
      "cell_type": "markdown",
      "metadata": {
        "id": "view-in-github",
        "colab_type": "text"
      },
      "source": [
        "<a href=\"https://colab.research.google.com/github/mesrp88/direct_commit/blob/master/python_easy_program.ipynb\" target=\"_parent\"><img src=\"https://colab.research.google.com/assets/colab-badge.svg\" alt=\"Open In Colab\"/></a>"
      ]
    },
    {
      "cell_type": "markdown",
      "source": [
        "Created by \"SWORUP RAJ POUDEL\"<br>\n",
        "BASIC PYTHON PROGRAMMING!!"
      ],
      "metadata": {
        "id": "CtqEf-OjWuOx"
      }
    },
    {
      "cell_type": "markdown",
      "source": [
        "1. Converting km into miles"
      ],
      "metadata": {
        "id": "rBX7yv1vW0_R"
      }
    },
    {
      "cell_type": "code",
      "execution_count": null,
      "metadata": {
        "colab": {
          "base_uri": "https://localhost:8080/"
        },
        "id": "ooGolkzQWtdd",
        "outputId": "f1c15080-c032-4dbd-9da2-92e17d9a87a9"
      },
      "outputs": [
        {
          "output_type": "stream",
          "name": "stdout",
          "text": [
            "Enter value of km: 24.4\n",
            "24.4 km is equal to 15.152399999999998 miles\n"
          ]
        }
      ],
      "source": [
        "km= float(input(\"Enter value of km: \"))\n",
        "km_miles= 0.621\n",
        "miles= km* km_miles\n",
        "print(str(km)+\" km is equal to \"+str(miles)+ \" miles\" )"
      ]
    },
    {
      "cell_type": "markdown",
      "source": [
        "2. Convert Celsius to Fahrenheit\n"
      ],
      "metadata": {
        "id": "zBKBCUXtX4GQ"
      }
    },
    {
      "cell_type": "code",
      "source": [
        "celsius= float(input(\"Enter celsius value: \"))\n",
        "fahrenheit_ratio = 1.8*celsius+32\n",
        "print(celsius, \"celisus is equal to\", fahrenheit_ratio,\"Fahrenheit\")"
      ],
      "metadata": {
        "colab": {
          "base_uri": "https://localhost:8080/"
        },
        "id": "ndxKi5a9XoS4",
        "outputId": "c58fd36f-fd7d-4207-8d26-b6b4d4d5fb01"
      },
      "execution_count": null,
      "outputs": [
        {
          "output_type": "stream",
          "name": "stdout",
          "text": [
            "Enter celsius value: 44\n",
            "44.0 celisus is equal to 111.2 Fahrenheit\n"
          ]
        }
      ]
    },
    {
      "cell_type": "markdown",
      "source": [
        "3. Find the Square Root of a Number"
      ],
      "metadata": {
        "id": "laYc-NtHakIB"
      }
    },
    {
      "cell_type": "code",
      "source": [
        "numbers= float(input(\"Enter number: \"))\n",
        "square_root= numbers**(1/2)\n",
        "print(\"Square root of\", numbers, \"is\", square_root)"
      ],
      "metadata": {
        "colab": {
          "base_uri": "https://localhost:8080/"
        },
        "id": "53tRYAiCZlDw",
        "outputId": "23251c59-dfc3-4a05-9c8f-affb8d5a01d2"
      },
      "execution_count": null,
      "outputs": [
        {
          "output_type": "stream",
          "name": "stdout",
          "text": [
            "Enter number: 25\n",
            "Square root of 25.0 is 5.0\n"
          ]
        }
      ]
    },
    {
      "cell_type": "markdown",
      "source": [
        "4. Find the Area of a Triangle\n"
      ],
      "metadata": {
        "id": "cXH8uY29bGkU"
      }
    },
    {
      "cell_type": "code",
      "source": [
        "base= float(input(\"Enter base: \"))\n",
        "height= float(input(\"Enter height: \"))\n",
        "area= (1/2)*base*height\n",
        "print(\"Area of triangle is\", area)"
      ],
      "metadata": {
        "colab": {
          "base_uri": "https://localhost:8080/"
        },
        "id": "dGl6kdZXbDWz",
        "outputId": "6da52b0c-9042-487b-c2a6-4334c5f6004a"
      },
      "execution_count": null,
      "outputs": [
        {
          "output_type": "stream",
          "name": "stdout",
          "text": [
            "Enter base: 4\n",
            "Enter height: 5\n",
            "Area of triangle is 10.0\n"
          ]
        }
      ]
    },
    {
      "cell_type": "markdown",
      "source": [
        "5. Swap Two Variables"
      ],
      "metadata": {
        "id": "eGB1g9OmbvMc"
      }
    },
    {
      "cell_type": "code",
      "source": [
        "variable1= float(input())\n",
        "variable2= float(input()) \n",
        "print(\"variable1:\",variable1,\"variable2:\", variable2)\n",
        "temp= variable1\n",
        "variable1= variable2\n",
        "variable2= temp\n",
        "print(\"variable1:\",variable1, \"variable2:\", variable2)"
      ],
      "metadata": {
        "colab": {
          "base_uri": "https://localhost:8080/"
        },
        "id": "DulDVmw8br-K",
        "outputId": "956423a1-e6a0-43a0-c910-bb4f16689a53"
      },
      "execution_count": null,
      "outputs": [
        {
          "output_type": "stream",
          "name": "stdout",
          "text": [
            "21\n",
            "11\n",
            "variable1: 21.0 variable2: 11.0\n",
            "variable1: 11.0 variable2: 21.0\n"
          ]
        }
      ]
    },
    {
      "cell_type": "code",
      "source": [
        "list1= []\n",
        "for i in range(0,9):\n",
        "  list1.append(i**2)\n",
        "print(list1)"
      ],
      "metadata": {
        "colab": {
          "base_uri": "https://localhost:8080/"
        },
        "id": "uIdGE59ZccYY",
        "outputId": "a81ca1e0-219e-48c1-af69-c3f40aa60e7d"
      },
      "execution_count": null,
      "outputs": [
        {
          "output_type": "stream",
          "name": "stdout",
          "text": [
            "[0, 1, 4, 9, 16, 25, 36, 49, 64]\n"
          ]
        }
      ]
    },
    {
      "cell_type": "code",
      "source": [
        "# using list comprehension\n",
        "list2= [i**2 for i in range(0,9)]\n",
        "print(list2)"
      ],
      "metadata": {
        "colab": {
          "base_uri": "https://localhost:8080/"
        },
        "id": "T27x5d2Djvki",
        "outputId": "d8f0462a-c9d1-4dc4-da5b-487514384cdd"
      },
      "execution_count": null,
      "outputs": [
        {
          "output_type": "stream",
          "name": "stdout",
          "text": [
            "[0, 1, 4, 9, 16, 25, 36, 49, 64]\n"
          ]
        }
      ]
    },
    {
      "cell_type": "code",
      "source": [
        "numbers= [1,2,3,4,5]\n",
        "square_number= {}\n",
        "for number in numbers:\n",
        "  square_number[number]= number**2\n",
        "print(square_number)"
      ],
      "metadata": {
        "colab": {
          "base_uri": "https://localhost:8080/"
        },
        "id": "dAoJ6LOEj9mK",
        "outputId": "269851c1-daf3-41f3-9c3f-3a274ef014be"
      },
      "execution_count": null,
      "outputs": [
        {
          "output_type": "stream",
          "name": "stdout",
          "text": [
            "{1: 1, 2: 4, 3: 9, 4: 16, 5: 25}\n"
          ]
        }
      ]
    },
    {
      "cell_type": "code",
      "source": [
        "#dictionary comprehension\n",
        "sq_numbers = {number:number**2 for number in numbers}\n",
        "print(sq_numbers)"
      ],
      "metadata": {
        "colab": {
          "base_uri": "https://localhost:8080/"
        },
        "id": "zvj3vs1Qqi_Z",
        "outputId": "e0a1d413-3e91-41f6-a379-98c5fef598b9"
      },
      "execution_count": null,
      "outputs": [
        {
          "output_type": "stream",
          "name": "stdout",
          "text": [
            "{1: 1, 2: 4, 3: 9, 4: 16, 5: 25}\n"
          ]
        }
      ]
    },
    {
      "cell_type": "code",
      "source": [
        "#dictionary camprehensio with conditions\n",
        "sq_numbers = {number:number**2 for number in numbers if number>3}\n",
        "print(sq_numbers)"
      ],
      "metadata": {
        "colab": {
          "base_uri": "https://localhost:8080/"
        },
        "id": "lgDEDtkirVS7",
        "outputId": "d8b7b82b-268a-433c-a655-0ffc4334df42"
      },
      "execution_count": null,
      "outputs": [
        {
          "output_type": "stream",
          "name": "stdout",
          "text": [
            "{4: 16, 5: 25}\n"
          ]
        }
      ]
    },
    {
      "cell_type": "code",
      "source": [
        ""
      ],
      "metadata": {
        "id": "uNIbAeTarmwU"
      },
      "execution_count": null,
      "outputs": []
    }
  ]
}